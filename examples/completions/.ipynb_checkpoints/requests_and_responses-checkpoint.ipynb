{
 "cells": [
  {
   "cell_type": "code",
   "id": "f043cfaabafcf6fc",
   "metadata": {
    "ExecuteTime": {
     "end_time": "2025-08-06T20:15:09.132815Z",
     "start_time": "2025-08-06T20:15:09.129140Z"
    }
   },
   "source": [
    "import json\n",
    "import logging\n",
    "import os\n",
    "\n",
    "# Set the logging level to desired verbosity\n",
    "# This will help in debugging by showing detailed logs of the operations\n",
    "# and interactions with the API.\n",
    "\n",
    "from nexosapi.common.logging import setup_logging\n",
    "\n",
    "LOGGING_LEVEL = logging.INFO\n",
    "setup_logging(level=LOGGING_LEVEL)\n",
    "\n",
    "# Set the environment variable to use dotenv to load environment variables\n",
    "os.environ[\"NEXOSAI_INIT__LOAD_DOTENV\"] = \"true\""
   ],
   "outputs": [],
   "execution_count": 1
  },
  {
   "cell_type": "code",
   "id": "a612940c87456fdb",
   "metadata": {
    "ExecuteTime": {
     "end_time": "2025-08-06T20:15:09.491519Z",
     "start_time": "2025-08-06T20:15:09.245248Z"
    }
   },
   "source": [
    "from nexosapi.api.endpoints import chat\n",
    "\n",
    "# Define the parameters for the chat completion request\n",
    "params = {\n",
    "    \"model\": \"8ef67c2a-5f50-4b19-acfe-5c2e404dbc95\",\n",
    "    \"messages\": [{\"role\": \"user\", \"content\": \"Hello, how are you?\", \"name\": \"Kamil\"}],\n",
    "}\n",
    "# Make a request to the chat completions endpoint with the specified parameters\n",
    "chat.completions.request.prepare(params)\n",
    "\n",
    "# Show the request before sending it\n",
    "request_to_send = chat.completions.request.dump()\n",
    "logging.info(f\"Request to send: {json.dumps(request_to_send, indent=2)}\")"
   ],
   "outputs": [
    {
     "name": "stderr",
     "output_type": "stream",
     "text": [
      "2025-08-06 22:15:09,489 - root - INFO - [SDK] Dependencies automatically wired.\n",
      "2025-08-06 22:15:09,490 - root - INFO - Request to send: {\n",
      "  \"model\": \"8ef67c2a-5f50-4b19-acfe-5c2e404dbc95\",\n",
      "  \"messages\": [\n",
      "    {\n",
      "      \"role\": \"user\",\n",
      "      \"content\": \"Hello, how are you?\",\n",
      "      \"name\": \"Kamil\"\n",
      "    }\n",
      "  ],\n",
      "  \"frequency_penalty\": \"0.0\",\n",
      "  \"n\": \"1\",\n",
      "  \"modalities\": [\n",
      "    \"text\"\n",
      "  ],\n",
      "  \"presence_penalty\": \"0.0\",\n",
      "  \"service_tier\": \"auto\",\n",
      "  \"temperature\": \"1.0\",\n",
      "  \"top_p\": \"1.0\"\n",
      "}\n"
     ]
    }
   ],
   "execution_count": 2
  },
  {
   "cell_type": "code",
   "id": "5a506925981ae858",
   "metadata": {
    "ExecuteTime": {
     "end_time": "2025-08-06T20:15:10.229929Z",
     "start_time": "2025-08-06T20:15:09.509779Z"
    }
   },
   "source": [
    "from nexosapi.domain.responses import ChatCompletionsResponse\n",
    "\n",
    "# Send the \"Hello\" request to the chat completions endpoint\n",
    "if chat.completions.request.pending is None:\n",
    "    chat.completions.request.reload_last()\n",
    "response: ChatCompletionsResponse = await chat.completions.request.send()\n",
    "\n",
    "# Get the response from the chat completions endpoint\n",
    "logging.info(response.response_choices_as_text)"
   ],
   "outputs": [
    {
     "name": "stderr",
     "output_type": "stream",
     "text": [
      "2025-08-06 22:15:10,223 - httpx - INFO - HTTP Request: POST https://api.nexos.ai/v1/chat/completions \"HTTP/1.1 200 OK\"\n",
      "2025-08-06 22:15:10,227 - root - INFO - Choice 1:\n",
      "  Message: Hello, Kamil! I'm just a computer program, so I don't have feelings, but I'm here and ready to help you. How can I assist you today?\n",
      "  Finish Reason: stop\n",
      "  Index: 0\n"
     ]
    }
   ],
   "execution_count": 3
  }
 ],
 "metadata": {
  "kernelspec": {
   "display_name": "Python 3",
   "language": "python",
   "name": "python3"
  },
  "language_info": {
   "codemirror_mode": {
    "name": "ipython",
    "version": 2
   },
   "file_extension": ".py",
   "mimetype": "text/x-python",
   "name": "python",
   "nbconvert_exporter": "python",
   "pygments_lexer": "ipython2",
   "version": "2.7.6"
  }
 },
 "nbformat": 4,
 "nbformat_minor": 5
}
