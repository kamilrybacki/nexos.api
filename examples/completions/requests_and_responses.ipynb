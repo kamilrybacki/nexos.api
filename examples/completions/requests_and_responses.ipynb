{
  "cells": [
    {
      "cell_type": "markdown",
      "id": "md-intro-hello",
      "metadata": {},
      "source": [
        "# Quick chat: send a Hello message via NexosAPI\n",
        "\n",
        "This notebook demonstrates how to:\n",
        "- Configure logging and environment variables for NexosAPI\n",
        "- Prepare a minimal chat completion request\n",
        "- Send the request and log the response\n",
        "\n",
        "Prerequisites:\n",
        "- NexosAPI configured with credentials available via a `.env` file\n",
        "- Internet access\n",
        "- A Jupyter environment that supports top-level `await`"
      ]
    },
    {
      "cell_type": "markdown",
      "id": "md-setup",
      "metadata": {},
      "source": [
        "## Setup: logging and environment\n",
        "\n",
        "Enable informative logs and point NexosAPI to your `.env` file so it can load credentials and configuration automatically. Update the `NEXOSAI_INIT__DOTENV_PATH` to your local path."
      ]
    },
    {
      "cell_type": "code",
      "execution_count": 1,
      "id": "f043cfaabafcf6fc",
      "metadata": {
        "ExecuteTime": {
          "end_time": "2025-08-08T22:24:59.860586Z",
          "start_time": "2025-08-08T22:24:59.856191Z"
        }
      },
      "outputs": [],
      "source": [
        "import json\n",
        "import logging\n",
        "import os\n",
        "\n",
        "# Set the logging level to desired verbosity\n",
        "# This will help in debugging by showing detailed logs of the operations\n",
        "# and interactions with the API.\n",
        "from nexosapi.common.logging import setup_logging\n",
        "\n",
        "LOGGING_LEVEL = logging.INFO\n",
        "setup_logging(level=LOGGING_LEVEL)\n",
        "\n",
        "# Set the environment variable to use dotenv to load environment variables\n",
        "\n",
        "os.environ[\"NEXOSAI_INIT__DOTENV_PATH\"] = (\n",
        "    \"/Users/kamilrybacki/Projects/nexos.api/examples/.env\"  # Set the path to the .env file\n",
        ")\n",
        "os.environ[\"NEXOSAI_INIT__LOAD_DOTENV\"] = \"true\""
      ]
    },
    {
      "cell_type": "markdown",
      "id": "md-prepare-request",
      "metadata": {},
      "source": [
        "## Prepare a simple chat completion request\n",
        "\n",
        "Construct a minimal payload that sends a user message to the selected model. We preview the request payload with structured logging before sending it."
      ]
    },
    {
      "cell_type": "code",
      "execution_count": 2,
      "id": "a612940c87456fdb",
      "metadata": {
        "ExecuteTime": {
          "end_time": "2025-08-08T22:25:00.160597Z",
          "start_time": "2025-08-08T22:24:59.942466Z"
        }
      },
      "outputs": [
        {
          "name": "stderr",
          "output_type": "stream",
          "text": [
            "2025-08-17 14:19:14,146 - root - INFO - [SDK] Dependencies automatically wired.\n"
          ]
        },
        {
          "name": "stdout",
          "output_type": "stream",
          "text": [
            "{\n",
            "  \"frequency_penalty\": 0.0,\n",
            "  \"messages\": [\n",
            "    {\n",
            "      \"content\": \"Hello, how are you?\",\n",
            "      \"name\": \"Kamil\",\n",
            "      \"role\": \"user\"\n",
            "    }\n",
            "  ],\n",
            "  \"modalities\": [\n",
            "    \"text\"\n",
            "  ],\n",
            "  \"model\": \"8ef67c2a-5f50-4b19-acfe-5c2e404dbc95\",\n",
            "  \"n\": 1,\n",
            "  \"presence_penalty\": 0.0,\n",
            "  \"service_tier\": \"auto\",\n",
            "  \"temperature\": 1.0,\n",
            "  \"top_p\": 1.0\n",
            "}\n"
          ]
        }
      ],
      "source": [
        "from nexosapi.api.endpoints import chat\n",
        "\n",
        "# Define the parameters for the chat completion request\n",
        "params = {\n",
        "    \"model\": \"8ef67c2a-5f50-4b19-acfe-5c2e404dbc95\",\n",
        "    \"messages\": [{\"content\": \"Hello, how are you?\", \"name\": \"Kamil\"}],\n",
        "}\n",
        "# Make a request to the chat completions endpoint with the specified parameters\n",
        "chat.completions.request.prepare(params)\n",
        "\n",
        "# Show the request before sending it\n",
        "request_to_send = chat.completions.request.dump()\n",
        "print(json.dumps(request_to_send, indent=2, ensure_ascii=False, sort_keys=True))"
      ]
    },
    {
      "cell_type": "markdown",
      "id": "md-send-response",
      "metadata": {},
      "source": [
        "## Send the request and log the response\n",
        "\n",
        "Reload the last prepared request (if needed) and send it asynchronously. The response object is logged for inspection, including the model's message and token usage."
      ]
    },
    {
      "cell_type": "code",
      "execution_count": 3,
      "id": "5a506925981ae858",
      "metadata": {
        "ExecuteTime": {
          "end_time": "2025-08-08T22:25:00.856983Z",
          "start_time": "2025-08-08T22:25:00.166730Z"
        }
      },
      "outputs": [
        {
          "name": "stderr",
          "output_type": "stream",
          "text": [
            "2025-08-17 14:19:14,635 - httpx - INFO - HTTP Request: POST https://api.nexos.ai/v1/chat/completions \"HTTP/1.1 200 OK\"\n"
          ]
        },
        {
          "name": "stdout",
          "output_type": "stream",
          "text": [
            "{\n",
            "  \"choices\": [\n",
            "    {\n",
            "      \"finish_reason\": \"stop\",\n",
            "      \"index\": 0,\n",
            "      \"message\": {\n",
            "        \"annotations\": [],\n",
            "        \"content\": \"Hello! I'm just a computer program, so I don't have feelings, but I'm here and ready to help you. How can I assist you today?\",\n",
            "        \"role\": \"assistant\"\n",
            "      }\n",
            "    }\n",
            "  ],\n",
            "  \"created\": 1755433137,\n",
            "  \"id\": \"chatcmpl-C5Wddi2B2ZRepf89DFFvR0vfcGzGY\",\n",
            "  \"model\": \"gpt-4o-mini-2024-07-18\",\n",
            "  \"object\": \"chat.completion\",\n",
            "  \"service_tier\": \"default\",\n",
            "  \"system_fingerprint\": \"fp_560af6e559\",\n",
            "  \"usage\": {\n",
            "    \"completion_tokens\": 30,\n",
            "    \"prompt_tokens\": 16,\n",
            "    \"total_tokens\": 46\n",
            "  }\n",
            "}\n"
          ]
        }
      ],
      "source": [
        "from nexosapi.domain.responses import ChatCompletionsResponse\n",
        "\n",
        "# Send the \"Hello\" request to the chat completions endpoint\n",
        "if chat.completions.request.pending is None:\n",
        "    chat.completions.request.reload_last()\n",
        "response: ChatCompletionsResponse = await chat.completions.request.send()\n",
        "\n",
        "# Get the response from the chat completions endpoint\n",
        "print(json.dumps(response.model_dump(), indent=2, ensure_ascii=False, sort_keys=True))"
      ]
    }
  ],
  "metadata": {
    "kernelspec": {
      "display_name": "NexosAPI Venv (3.13.5)",
      "language": "python",
      "name": "python3"
    },
    "language_info": {
      "codemirror_mode": {
        "name": "ipython",
        "version": 3
      },
      "file_extension": ".py",
      "mimetype": "text/x-python",
      "name": "python",
      "nbconvert_exporter": "python",
      "pygments_lexer": "ipython3",
      "version": "3.13.5"
    }
  },
  "nbformat": 4,
  "nbformat_minor": 5
}
