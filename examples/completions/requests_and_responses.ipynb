{
 "cells": [
  {
   "cell_type": "code",
   "execution_count": null,
   "id": "f043cfaabafcf6fc",
   "metadata": {
    "ExecuteTime": {
     "end_time": "2025-08-08T22:24:59.860586Z",
     "start_time": "2025-08-08T22:24:59.856191Z"
    }
   },
   "outputs": [],
   "source": [
    "import json\n",
    "import logging\n",
    "import os\n",
    "\n",
    "# Set the logging level to desired verbosity\n",
    "# This will help in debugging by showing detailed logs of the operations\n",
    "# and interactions with the API.\n",
    "from nexosapi.common.logging import setup_logging\n",
    "\n",
    "LOGGING_LEVEL = logging.INFO\n",
    "setup_logging(level=LOGGING_LEVEL)\n",
    "\n",
    "# Set the environment variable to use dotenv to load environment variables\n",
    "os.environ[\"NEXOSAI_INIT__LOAD_DOTENV\"] = \"true\""
   ]
  },
  {
   "cell_type": "code",
   "execution_count": null,
   "id": "a612940c87456fdb",
   "metadata": {
    "ExecuteTime": {
     "end_time": "2025-08-08T22:25:00.160597Z",
     "start_time": "2025-08-08T22:24:59.942466Z"
    }
   },
   "outputs": [],
   "source": [
    "from nexosapi.api.endpoints import chat\n",
    "\n",
    "# Define the parameters for the chat completion request\n",
    "params = {\n",
    "    \"model\": \"8ef67c2a-5f50-4b19-acfe-5c2e404dbc95\",\n",
    "    \"messages\": [{\"role\": \"user\", \"content\": \"Hello, how are you?\", \"name\": \"Kamil\"}],\n",
    "}\n",
    "# Make a request to the chat completions endpoint with the specified parameters\n",
    "chat.completions.request.prepare(params)\n",
    "\n",
    "# Show the request before sending it\n",
    "request_to_send = chat.completions.request.dump()\n",
    "logging.info(f\"Request to send: {json.dumps(request_to_send, indent=2)}\")"
   ]
  },
  {
   "cell_type": "code",
   "execution_count": null,
   "id": "5a506925981ae858",
   "metadata": {
    "ExecuteTime": {
     "end_time": "2025-08-08T22:25:00.856983Z",
     "start_time": "2025-08-08T22:25:00.166730Z"
    }
   },
   "outputs": [],
   "source": [
    "from nexosapi.domain.responses import ChatCompletionsResponse\n",
    "\n",
    "# Send the \"Hello\" request to the chat completions endpoint\n",
    "if chat.completions.request.pending is None:\n",
    "    chat.completions.request.reload_last()\n",
    "response: ChatCompletionsResponse = await chat.completions.request.send()\n",
    "\n",
    "# Get the response from the chat completions endpoint\n",
    "logging.info(f\"Response: {response}\")"
   ]
  }
 ],
 "metadata": {
  "kernelspec": {
   "display_name": "NexosAPI Venv (3.13.5)",
   "language": "python",
   "name": "python3"
  },
  "language_info": {
   "codemirror_mode": {
    "name": "ipython",
    "version": 3
   },
   "file_extension": ".py",
   "mimetype": "text/x-python",
   "name": "python",
   "nbconvert_exporter": "python",
   "pygments_lexer": "ipython3",
   "version": "3.13.5"
  }
 },
 "nbformat": 4,
 "nbformat_minor": 5
}
