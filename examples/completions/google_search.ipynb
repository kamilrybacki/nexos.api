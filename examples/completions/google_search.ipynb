{
  "cells": [
    {
      "cell_type": "markdown",
      "id": "md-intro-currencies",
      "metadata": {},
      "source": [
        "# Get the current EUR price in PLN using NexosAPI and web search\n",
        "\n",
        "This notebook shows how to:\n",
        "- Configure logging and load environment variables for NexosAPI\n",
        "- Construct a chat completion request that uses a web search tool to fetch the latest exchange rate\n",
        "- Send the request and log the structured JSON response\n",
        "\n",
        "Prerequisites:\n",
        "- A valid NexosAPI configuration and credentials (e.g., stored in a `.env` file)\n",
        "- Internet access for the web search tool"
      ]
    },
    {
      "cell_type": "markdown",
      "id": "md-setup-logging-dotenv",
      "metadata": {},
      "source": [
        "## Setup: logging and environment variables\n",
        "\n",
        "Initialize verbose logging to observe SDK behavior and point NexosAPI to your `.env` file so it can load credentials and configuration. Update the `NEXOSAI_INIT__DOTENV_PATH` to match your environment."
      ]
    },
    {
      "cell_type": "code",
      "execution_count": 1,
      "id": "fe1cde38eefb3a4e",
      "metadata": {
        "ExecuteTime": {
          "end_time": "2025-08-06T22:33:19.554452Z",
          "start_time": "2025-08-06T22:33:19.549621Z"
        }
      },
      "outputs": [],
      "source": [
        "import json\n",
        "import logging\n",
        "import os\n",
        "\n",
        "# Set the logging level to desired verbosity\n",
        "# This will help in debugging by showing detailed logs of the operations\n",
        "# and interactions with the API.\n",
        "from nexosapi.common.logging import setup_logging\n",
        "\n",
        "LOGGING_LEVEL = logging.INFO\n",
        "setup_logging(level=LOGGING_LEVEL)\n",
        "\n",
        "# Set the environment variable to use dotenv to load environment variables\n",
        "\n",
        "os.environ[\"NEXOSAI_INIT__DOTENV_PATH\"] = (\n",
        "    \"/Users/kamilrybacki/Projects/nexos.api/examples/.env\"  # Set the path to the .env file\n",
        ")\n",
        "os.environ[\"NEXOSAI_INIT__LOAD_DOTENV\"] = \"true\""
      ]
    },
    {
      "cell_type": "markdown",
      "id": "md-build-request-search",
      "metadata": {},
      "source": [
        "## Build a request that uses the web search tool\n",
        "\n",
        "Create a chat completion request that:\n",
        "- Provides a system instruction to search for the current EUR→PLN rate\n",
        "- Asks the user question\n",
        "- Enables the web search tool with a medium search context\n",
        "- Logs the prepared payload for inspection before sending"
      ]
    },
    {
      "cell_type": "code",
      "execution_count": 2,
      "id": "c46ba21701f39dee",
      "metadata": {
        "ExecuteTime": {
          "end_time": "2025-08-06T22:33:19.920809Z",
          "start_time": "2025-08-06T22:33:19.671963Z"
        }
      },
      "outputs": [
        {
          "name": "stderr",
          "output_type": "stream",
          "text": [
            "2025-08-17 21:12:16,298 - root - INFO - [SDK] Dependencies automatically wired.\n"
          ]
        },
        {
          "name": "stdout",
          "output_type": "stream",
          "text": [
            "{\n",
            "  \"frequency_penalty\": 0.0,\n",
            "  \"messages\": [\n",
            "    {\n",
            "      \"content\": \"\\n            You are a helpful assistant that provides current currency prices\\n            based on the latest available data. You can use a Google search tool\\n            to find the most recent exchange rates. When asked for a currency price,\\n            you will search for the current price of the specified currency in the\\n            specified currency. For example, if asked for the price of an euro in Polish Zlot\\n            (PLN), you will search for \\\"current price of euro in PLN\\\" and provide the\\n            latest exchange rate you find.\\n\\n            If you cannot find the price, respond with an error message:\\n            \\\"Could not find the current price of the specified currency.\\\"\\n        \",\n",
            "      \"role\": \"system\"\n",
            "    }\n",
            "  ],\n",
            "  \"modalities\": [\n",
            "    \"text\"\n",
            "  ],\n",
            "  \"model\": \"7071fb76-722a-41ad-8477-68123b04b4ab\",\n",
            "  \"n\": 1,\n",
            "  \"presence_penalty\": 0.0,\n",
            "  \"service_tier\": \"auto\",\n",
            "  \"temperature\": 1.0,\n",
            "  \"tools\": [\n",
            "    {\n",
            "      \"type\": \"web_search\",\n",
            "      \"web_search\": {\n",
            "        \"search_context_size\": \"medium\"\n",
            "      }\n",
            "    }\n",
            "  ],\n",
            "  \"top_p\": 1.0\n",
            "}\n"
          ]
        }
      ],
      "source": [
        "from nexosapi.api.endpoints import chat\n",
        "\n",
        "# Start with a new request\n",
        "tool_request = {\n",
        "    \"model\": \"7071fb76-722a-41ad-8477-68123b04b4ab\",\n",
        "    \"messages\": [\n",
        "        {\n",
        "            \"role\": \"system\",\n",
        "            \"content\": \"\"\"\n",
        "            You are a helpful assistant that provides current currency prices\n",
        "            based on the latest available data. You can use a Google search tool\n",
        "            to find the most recent exchange rates. When asked for a currency price,\n",
        "            you will search for the current price of the specified currency in the\n",
        "            specified currency. For example, if asked for the price of an euro in Polish Zlot\n",
        "            (PLN), you will search for \"current price of euro in PLN\" and provide the\n",
        "            latest exchange rate you find.\n",
        "\n",
        "            If you cannot find the price, respond with an error message:\n",
        "            \"Could not find the current price of the specified currency.\"\n",
        "        \"\"\",\n",
        "        },\n",
        "    ],\n",
        "}\n",
        "# Prepare the new request with the specified parameters\n",
        "chat.completions.request.prepare(tool_request)\n",
        "\n",
        "# Add a Google search tool to the request\n",
        "chat.completions.request.with_search_engine_tool(\n",
        "    options={\n",
        "        \"search_context_size\": \"medium\",\n",
        "    },\n",
        ")\n",
        "\n",
        "# Show the request before sending it\n",
        "tool_request_to_send = chat.completions.request.dump()\n",
        "print(json.dumps(tool_request_to_send, indent=2, ensure_ascii=False, sort_keys=True))"
      ]
    },
    {
      "cell_type": "markdown",
      "id": "md-send-and-log-response",
      "metadata": {},
      "source": [
        "## Send the request and log the response\n",
        "\n",
        "Reload the last prepared request and send it asynchronously. The response is logged and should include a JSON payload with the currency and its price in PLN (or an error message). Note: Jupyter supports top-level `await`."
      ]
    },
    {
      "cell_type": "code",
      "execution_count": 3,
      "id": "a9d2fd8f5bfa42ae",
      "metadata": {
        "ExecuteTime": {
          "end_time": "2025-08-06T22:33:25.373921Z",
          "start_time": "2025-08-06T22:33:19.942521Z"
        }
      },
      "outputs": [
        {
          "name": "stderr",
          "output_type": "stream",
          "text": [
            "2025-08-17 21:12:26,095 - httpx - INFO - HTTP Request: POST https://api.nexos.ai/v1/chat/completions \"HTTP/1.1 200 OK\"\n",
            "2025-08-17 21:12:26,177 - root - INFO - [SDK] Thinking process detected for message from None\n"
          ]
        },
        {
          "name": "stdout",
          "output_type": "stream",
          "text": [
            "{\n",
            "  \"choices\": [\n",
            "    {\n",
            "      \"finish_reason\": \"stop\",\n",
            "      \"index\": 0,\n",
            "      \"message\": {\n",
            "        \"annotations\": [\n",
            "          {\n",
            "            \"type\": \"url_citation\",\n",
            "            \"url_citation\": {\n",
            "              \"title\": \"Bloomberg | The EUR-PLN X-RATE is listed at 4.2600, updated as of 12:00 AM EDT 08/15/25.\",\n",
            "              \"url\": \"https://www.bloomberg.com/quote/EURPLN:CUR\"\n",
            "            }\n",
            "          },\n",
            "          {\n",
            "            \"type\": \"url_citation\",\n",
            "            \"url_citation\": {\n",
            "              \"title\": \"European Central Bank | ECB euro reference exchange rate: 1 EUR = 4.2605 PLN on 14 August 2025.\",\n",
            "              \"url\": \"https://www.ecb.europa.eu/stats/policy_and_exchange_rates/euro_reference_exchange_rates/html/eurofxref-graph-pln.en.html\"\n",
            "            }\n",
            "          }\n",
            "        ],\n",
            "        \"content\": \"The current exchange rate for 1 euro (EUR) is approximately 4.26 Polish zloty (PLN) as of the latest market data.\",\n",
            "        \"role\": \"assistant\",\n",
            "        \"thinking\": \"<think>\\n1. My task is to provide the current exchange rate from euro (EUR) to Polish zloty (PLN).\\n2. The search returned several reputable sources (XE, Wise, Bloomberg, ECB, Revolut) with very up-to-date rates.\\n3. Most current rates quoted are between 4.24 PLN and 4.26 PLN per 1 euro.\\n4. Given these small variations, I should choose a rate provided with a specific timestamp or from a reputable financial source.\\n5. The Bloomberg and Revolut sites both currently report 1 EUR ≈ 4.26 PLN, which aligns with the European Central Bank reference rate of 4.2605 PLN.\\n6. I will report the most precise and recent-looking figure: 1 EUR = 4.26 PLN.\\n</think>\\n\\nThe current exchange rate for 1 euro (EUR) is approximately 4.26 Polish zloty (PLN) as of the latest market data.\"\n",
            "      }\n",
            "    }\n",
            "  ],\n",
            "  \"created\": 1755457943,\n",
            "  \"id\": \"chatcmpl-C5d5jp8ixiTTDgnUqoi71oph2XTph\",\n",
            "  \"model\": \"gpt-4.1-2025-04-14\",\n",
            "  \"object\": \"chat.completion\",\n",
            "  \"service_tier\": \"default\",\n",
            "  \"system_fingerprint\": \"fp_3502f4eb73\",\n",
            "  \"usage\": {\n",
            "    \"completion_tokens\": 316,\n",
            "    \"prompt_tokens\": 1233,\n",
            "    \"total_tokens\": 1549\n",
            "  }\n",
            "}\n"
          ]
        }
      ],
      "source": [
        "# Send the new request to the chat completions endpoint with the Google search tool\n",
        "chat.completions.request.reload_last()\n",
        "tool_response = await chat.completions.request.send()\n",
        "\n",
        "# Get the response from the chat completions endpoint\n",
        "print(json.dumps(tool_response.model_dump(), indent=2, ensure_ascii=False, sort_keys=True))"
      ]
    }
  ],
  "metadata": {
    "kernelspec": {
      "display_name": "NexosAPI Venv (3.13.5)",
      "language": "python",
      "name": "python3"
    },
    "language_info": {
      "codemirror_mode": {
        "name": "ipython",
        "version": 3
      },
      "file_extension": ".py",
      "mimetype": "text/x-python",
      "name": "python",
      "nbconvert_exporter": "python",
      "pygments_lexer": "ipython3",
      "version": "3.13.5"
    }
  },
  "nbformat": 4,
  "nbformat_minor": 5
}
