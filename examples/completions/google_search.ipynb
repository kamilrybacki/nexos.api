{
 "cells": [
  {
   "cell_type": "code",
   "execution_count": 1,
   "id": "fe1cde38eefb3a4e",
   "metadata": {
    "ExecuteTime": {
     "end_time": "2025-08-06T22:33:19.554452Z",
     "start_time": "2025-08-06T22:33:19.549621Z"
    }
   },
   "outputs": [],
   "source": [
    "import json\n",
    "import logging\n",
    "import os\n",
    "\n",
    "# Set the logging level to desired verbosity\n",
    "# This will help in debugging by showing detailed logs of the operations\n",
    "# and interactions with the API.\n",
    "from nexosapi.common.logging import setup_logging\n",
    "\n",
    "LOGGING_LEVEL = logging.INFO\n",
    "setup_logging(level=LOGGING_LEVEL)\n",
    "\n",
    "# Set the environment variable to use dotenv to load environment variables\n",
    "os.environ[\"NEXOSAI_INIT__LOAD_DOTENV\"] = \"true\""
   ]
  },
  {
   "cell_type": "code",
   "execution_count": 2,
   "id": "c46ba21701f39dee",
   "metadata": {
    "ExecuteTime": {
     "end_time": "2025-08-06T22:33:19.920809Z",
     "start_time": "2025-08-06T22:33:19.671963Z"
    }
   },
   "outputs": [
    {
     "name": "stderr",
     "output_type": "stream",
     "text": [
      "2025-08-07 00:35:25,077 - root - INFO - [SDK] Dependencies automatically wired.\n",
      "2025-08-07 00:35:25,078 - root - INFO - Request before sending: {\n",
      "  \"model\": \"7071fb76-722a-41ad-8477-68123b04b4ab\",\n",
      "  \"messages\": [\n",
      "    {\n",
      "      \"role\": \"system\",\n",
      "      \"content\": \"\\n            You are a helpful assistant that provides current currency prices\\n            based on the latest available data. You can use a Google search tool\\n            to find the most recent exchange rates. When asked for a currency price,\\n            you will search for the current price of the specified currency in the\\n            specified currency. For example, if asked for the price of an euro in Polish Zlot\\n            (PLN), you will search for \\\"current price of euro in PLN\\\" and provide the\\n            latest exchange rate you find. Provide the answer in JSON format with the\\n            following structure:\\n            {\\n                \\\"currency\\\": \\\"EUR\\\",\\n                \\\"price_in_pln\\\": 4.5\\n            }\\n            where \\\"currency\\\" is the currency you searched for and \\\"price_in_pln\\\" is the\\n            current price of that currency in Polish Zloty (PLN).\\n            If you cannot find the price, respond with an error message in JSON format:\\n            {\\n                \\\"error\\\": \\\"Could not find the current price of the specified currency.\\\"\\n            }\\n        \"\n",
      "    },\n",
      "    {\n",
      "      \"role\": \"user\",\n",
      "      \"content\": \"What is the current price of an euro in Polish Zloty (PLN)?\"\n",
      "    }\n",
      "  ],\n",
      "  \"frequency_penalty\": \"0.0\",\n",
      "  \"n\": \"1\",\n",
      "  \"modalities\": [\n",
      "    \"text\"\n",
      "  ],\n",
      "  \"presence_penalty\": \"0.0\",\n",
      "  \"service_tier\": \"auto\",\n",
      "  \"temperature\": \"1.0\",\n",
      "  \"top_p\": \"1.0\",\n",
      "  \"tools\": [\n",
      "    {\n",
      "      \"type\": \"web_search\",\n",
      "      \"web_search\": {\n",
      "        \"search_context_size\": \"medium\"\n",
      "      }\n",
      "    }\n",
      "  ]\n",
      "}\n"
     ]
    }
   ],
   "source": [
    "from nexosapi.api.endpoints import chat\n",
    "\n",
    "# Start with a new request\n",
    "tool_request = {\n",
    "    \"model\": \"7071fb76-722a-41ad-8477-68123b04b4ab\",\n",
    "    \"messages\": [\n",
    "        {\n",
    "            \"role\": \"system\",\n",
    "            \"content\": \"\"\"\n",
    "            You are a helpful assistant that provides current currency prices\n",
    "            based on the latest available data. You can use a Google search tool\n",
    "            to find the most recent exchange rates. When asked for a currency price,\n",
    "            you will search for the current price of the specified currency in the\n",
    "            specified currency. For example, if asked for the price of an euro in Polish Zlot\n",
    "            (PLN), you will search for \"current price of euro in PLN\" and provide the\n",
    "            latest exchange rate you find. Provide the answer in JSON format with the\n",
    "            following structure:\n",
    "            {\n",
    "                \"currency\": \"EUR\",\n",
    "                \"price_in_pln\": 4.5\n",
    "            }\n",
    "            where \"currency\" is the currency you searched for and \"price_in_pln\" is the\n",
    "            current price of that currency in Polish Zloty (PLN).\n",
    "            If you cannot find the price, respond with an error message in JSON format:\n",
    "            {\n",
    "                \"error\": \"Could not find the current price of the specified currency.\"\n",
    "            }\n",
    "        \"\"\",\n",
    "        },\n",
    "        {\"role\": \"user\", \"content\": \"What is the current price of an euro in Polish Zloty (PLN)?\"},\n",
    "    ],\n",
    "}\n",
    "# Prepare the new request with the specified parameters\n",
    "chat.completions.request.prepare(tool_request)\n",
    "\n",
    "# Add a Google search tool to the request\n",
    "chat.completions.request.with_search_engine_tool(\n",
    "    options={\n",
    "        \"search_context_size\": \"medium\",\n",
    "    },\n",
    ")\n",
    "\n",
    "# Show the request before sending it\n",
    "tool_request_to_send = chat.completions.request.dump()\n",
    "logging.info(f\"Request before sending: {json.dumps(tool_request_to_send, indent=2)}\")"
   ]
  },
  {
   "cell_type": "code",
   "execution_count": 3,
   "id": "a9d2fd8f5bfa42ae",
   "metadata": {
    "ExecuteTime": {
     "end_time": "2025-08-06T22:33:25.373921Z",
     "start_time": "2025-08-06T22:33:19.942521Z"
    }
   },
   "outputs": [
    {
     "name": "stderr",
     "output_type": "stream",
     "text": [
      "2025-08-07 00:35:27,486 - httpx - INFO - HTTP Request: POST https://api.nexos.ai/v1/chat/completions \"HTTP/1.1 200 OK\"\n",
      "2025-08-07 00:35:27,490 - root - INFO - Response: Choice 1:\n",
      "  Message: {\n",
      "    \"currency\": \"EUR\",\n",
      "    \"price_in_pln\": 4.27\n",
      "}\n",
      "  Finish Reason: stop\n",
      "  Index: 0\n"
     ]
    }
   ],
   "source": [
    "# Send the new request to the chat completions endpoint with the Google search tool\n",
    "chat.completions.request.reload_last()\n",
    "tool_response = await chat.completions.request.send()\n",
    "\n",
    "# Get the response from the chat completions endpoint\n",
    "logging.info(f\"Response: {tool_response.response_choices_as_text}\")"
   ]
  }
 ],
 "metadata": {
  "kernelspec": {
   "display_name": "Python 3 (ipykernel)",
   "language": "python",
   "name": "python3"
  },
  "language_info": {
   "codemirror_mode": {
    "name": "ipython",
    "version": 3
   },
   "file_extension": ".py",
   "mimetype": "text/x-python",
   "name": "python",
   "nbconvert_exporter": "python",
   "pygments_lexer": "ipython3",
   "version": "3.13.5"
  }
 },
 "nbformat": 4,
 "nbformat_minor": 5
}
